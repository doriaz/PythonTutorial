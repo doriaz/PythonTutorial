{
 "cells": [
  {
   "cell_type": "code",
   "execution_count": 16,
   "metadata": {},
   "outputs": [],
   "source": [
    "# get\n",
    "# update\n",
    "# del\n",
    "# pop\n",
    "# len\n",
    "# keys\n",
    "# values\n",
    "# items"
   ]
  },
  {
   "cell_type": "markdown",
   "metadata": {},
   "source": [
    "#### Keyerror"
   ]
  },
  {
   "cell_type": "code",
   "execution_count": 1,
   "metadata": {
    "scrolled": true
   },
   "outputs": [
    {
     "ename": "KeyError",
     "evalue": "'phone'",
     "output_type": "error",
     "traceback": [
      "\u001b[1;31m---------------------------------------------------------------------------\u001b[0m",
      "\u001b[1;31mKeyError\u001b[0m                                  Traceback (most recent call last)",
      "\u001b[1;32m<ipython-input-1-22df4be18cc3>\u001b[0m in \u001b[0;36m<module>\u001b[1;34m\u001b[0m\n\u001b[0;32m      2\u001b[0m \u001b[0mstudent\u001b[0m \u001b[1;33m=\u001b[0m \u001b[1;33m{\u001b[0m\u001b[1;34m'name'\u001b[0m\u001b[1;33m:\u001b[0m\u001b[1;34m'John'\u001b[0m\u001b[1;33m,\u001b[0m \u001b[1;34m'age'\u001b[0m\u001b[1;33m:\u001b[0m\u001b[1;36m25\u001b[0m\u001b[1;33m,\u001b[0m \u001b[1;34m'courses'\u001b[0m\u001b[1;33m:\u001b[0m\u001b[1;33m[\u001b[0m\u001b[1;34m'math'\u001b[0m\u001b[1;33m,\u001b[0m\u001b[1;34m'CompSci'\u001b[0m\u001b[1;33m]\u001b[0m\u001b[1;33m}\u001b[0m\u001b[1;33m\u001b[0m\u001b[1;33m\u001b[0m\u001b[0m\n\u001b[0;32m      3\u001b[0m \u001b[1;33m\u001b[0m\u001b[0m\n\u001b[1;32m----> 4\u001b[1;33m \u001b[0mprint\u001b[0m \u001b[1;33m(\u001b[0m\u001b[0mstudent\u001b[0m\u001b[1;33m[\u001b[0m\u001b[1;34m'phone'\u001b[0m\u001b[1;33m]\u001b[0m\u001b[1;33m)\u001b[0m\u001b[1;33m\u001b[0m\u001b[1;33m\u001b[0m\u001b[0m\n\u001b[0m",
      "\u001b[1;31mKeyError\u001b[0m: 'phone'"
     ]
    }
   ],
   "source": [
    "# keyerror will show up if we look up a value of a key which doesn't exist\n",
    "student = {'name':'John', 'age':25, 'courses':['math','CompSci']}\n",
    "\n",
    "print (student['phone'])"
   ]
  },
  {
   "cell_type": "markdown",
   "metadata": {},
   "source": [
    "#### Return None or Defaul Value If a Key Doesn't Exist"
   ]
  },
  {
   "cell_type": "code",
   "execution_count": 2,
   "metadata": {},
   "outputs": [
    {
     "name": "stdout",
     "output_type": "stream",
     "text": [
      "None\n"
     ]
    }
   ],
   "source": [
    "print (student.get('phone'))"
   ]
  },
  {
   "cell_type": "code",
   "execution_count": 4,
   "metadata": {},
   "outputs": [
    {
     "name": "stdout",
     "output_type": "stream",
     "text": [
      "Not Found\n"
     ]
    }
   ],
   "source": [
    "print (student.get('phone','Not Found'))"
   ]
  },
  {
   "cell_type": "markdown",
   "metadata": {},
   "source": [
    "#### Update Dictionary"
   ]
  },
  {
   "cell_type": "code",
   "execution_count": 7,
   "metadata": {},
   "outputs": [
    {
     "name": "stdout",
     "output_type": "stream",
     "text": [
      "{'name': 'Jane', 'age': 25, 'courses': ['math', 'CompSci'], 'phone': '555-5555'}\n",
      "{'name': 'Jane', 'age': 26, 'courses': ['math', 'CompSci'], 'phone': '555-5555'}\n"
     ]
    }
   ],
   "source": [
    "# 1. assign a new value to existing or non-existing key\n",
    "student = {'name':'John', 'age':25, 'courses':['math','CompSci']}\n",
    "student['phone'] = '555-5555'\n",
    "student['name'] = 'Jane'\n",
    "\n",
    "print (student)\n",
    "\n",
    "# 2. use update function\n",
    "student = {'name':'John', 'age':25, 'courses':['math','CompSci']}\n",
    "student.update({'name':'Jane', 'age':26, 'phone':'555-5555'})\n",
    "print (student)"
   ]
  },
  {
   "cell_type": "markdown",
   "metadata": {},
   "source": [
    "#### Delete Key"
   ]
  },
  {
   "cell_type": "code",
   "execution_count": 11,
   "metadata": {},
   "outputs": [
    {
     "name": "stdout",
     "output_type": "stream",
     "text": [
      "{'name': 'John', 'courses': ['math', 'CompSci']}\n",
      "{'name': 'John', 'courses': ['math', 'CompSci']}\n",
      "25\n"
     ]
    }
   ],
   "source": [
    "# 1. use del\n",
    "student = {'name':'John', 'age':25, 'courses':['math','CompSci']}\n",
    "del student['age']\n",
    "print (student)\n",
    "\n",
    "# 2. use pop\n",
    "# pop method remove but also return the value so we can grab the removed value with a variable\n",
    "student = {'name':'John', 'age':25, 'courses':['math','CompSci']}\n",
    "age = student.pop('age')\n",
    "print (student)\n",
    "print (age)"
   ]
  },
  {
   "cell_type": "markdown",
   "metadata": {},
   "source": [
    "#### Look Up Key/Value list"
   ]
  },
  {
   "cell_type": "code",
   "execution_count": 14,
   "metadata": {},
   "outputs": [
    {
     "name": "stdout",
     "output_type": "stream",
     "text": [
      "3\n",
      "dict_keys(['name', 'age', 'courses'])\n",
      "dict_values(['John', 25, ['math', 'CompSci']])\n",
      "dict_items([('name', 'John'), ('age', 25), ('courses', ['math', 'CompSci'])])\n"
     ]
    }
   ],
   "source": [
    "student = {'name':'John', 'age':25, 'courses':['math','CompSci']}\n",
    "# 1. the number of keys\n",
    "print (len(student))\n",
    "\n",
    "# 2. the list of keys\n",
    "print (student.keys())\n",
    "\n",
    "# 3. the list of values\n",
    "print (student.values())\n",
    "\n",
    "# 4. the list of pairs of key and value\n",
    "print (student.items())"
   ]
  }
 ],
 "metadata": {
  "kernelspec": {
   "display_name": "Python 3",
   "language": "python",
   "name": "python3"
  },
  "language_info": {
   "codemirror_mode": {
    "name": "ipython",
    "version": 3
   },
   "file_extension": ".py",
   "mimetype": "text/x-python",
   "name": "python",
   "nbconvert_exporter": "python",
   "pygments_lexer": "ipython3",
   "version": "3.7.4"
  }
 },
 "nbformat": 4,
 "nbformat_minor": 2
}
